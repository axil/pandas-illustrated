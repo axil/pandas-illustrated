{
 "cells": [
  {
   "cell_type": "code",
   "execution_count": 2,
   "id": "7c4dbc12",
   "metadata": {},
   "outputs": [],
   "source": [
    "import pandas as pd"
   ]
  },
  {
   "cell_type": "code",
   "execution_count": 19,
   "id": "fd9d9120",
   "metadata": {},
   "outputs": [],
   "source": [
    "df = pd.DataFrame({'A': [1,2,3], 'B': [4,5,6]})"
   ]
  },
  {
   "cell_type": "markdown",
   "id": "8f419d5b",
   "metadata": {},
   "source": [
    "### sidebyside"
   ]
  },
  {
   "cell_type": "code",
   "execution_count": 7,
   "id": "81cbd147",
   "metadata": {},
   "outputs": [],
   "source": [
    "from pdi import sidebyside as sbs"
   ]
  },
  {
   "cell_type": "code",
   "execution_count": 8,
   "id": "b458673f",
   "metadata": {},
   "outputs": [
    {
     "data": {
      "text/html": [
       "<table style=\"display:inline\"><tr><td style=\"vertical-align:top\"> <table style=\"display:inline\" border=\"1\" class=\"dataframe\">\n",
       "  <thead>\n",
       "    <tr style=\"text-align: right;\">\n",
       "      <th></th>\n",
       "      <th>A</th>\n",
       "      <th>B</th>\n",
       "    </tr>\n",
       "  </thead>\n",
       "  <tbody>\n",
       "    <tr>\n",
       "      <th>0</th>\n",
       "      <td>1</td>\n",
       "      <td>4</td>\n",
       "    </tr>\n",
       "    <tr>\n",
       "      <th>1</th>\n",
       "      <td>2</td>\n",
       "      <td>5</td>\n",
       "    </tr>\n",
       "    <tr>\n",
       "      <th>2</th>\n",
       "      <td>3</td>\n",
       "      <td>6</td>\n",
       "    </tr>\n",
       "  </tbody>\n",
       "</table style=\"display:inline\"></td></tr></table style=\"display:inline\">"
      ]
     },
     "metadata": {},
     "output_type": "display_data"
    }
   ],
   "source": [
    "sbs(df)"
   ]
  },
  {
   "cell_type": "code",
   "execution_count": 9,
   "id": "eb0f17ad",
   "metadata": {},
   "outputs": [
    {
     "data": {
      "text/html": [
       "<table style=\"display:inline\"><tr><td style=\"vertical-align:top\"> <table style=\"display:inline\" border=\"1\" class=\"dataframe\">\n",
       "  <thead>\n",
       "    <tr style=\"text-align: right;\">\n",
       "      <th>A</th>\n",
       "      <th>B</th>\n",
       "    </tr>\n",
       "  </thead>\n",
       "  <tbody>\n",
       "    <tr>\n",
       "      <td>1</td>\n",
       "      <td>4</td>\n",
       "    </tr>\n",
       "    <tr>\n",
       "      <td>2</td>\n",
       "      <td>5</td>\n",
       "    </tr>\n",
       "    <tr>\n",
       "      <td>3</td>\n",
       "      <td>6</td>\n",
       "    </tr>\n",
       "  </tbody>\n",
       "</table style=\"display:inline\"></td></tr></table style=\"display:inline\">"
      ]
     },
     "metadata": {},
     "output_type": "display_data"
    }
   ],
   "source": [
    "sbs(df, index=False)"
   ]
  },
  {
   "cell_type": "code",
   "execution_count": 10,
   "id": "517625e2",
   "metadata": {},
   "outputs": [
    {
     "data": {
      "text/html": [
       "<table style=\"display:inline\"><tr><td style=\"vertical-align:top\"> <table style=\"display:inline\" border=\"1\" class=\"dataframe\">\n",
       "  <thead>\n",
       "    <tr style=\"text-align: right;\">\n",
       "      <th></th>\n",
       "      <th>A</th>\n",
       "      <th>B</th>\n",
       "    </tr>\n",
       "  </thead>\n",
       "  <tbody>\n",
       "    <tr>\n",
       "      <th>0</th>\n",
       "      <td>1</td>\n",
       "      <td>4</td>\n",
       "    </tr>\n",
       "    <tr>\n",
       "      <th>1</th>\n",
       "      <td>2</td>\n",
       "      <td>5</td>\n",
       "    </tr>\n",
       "    <tr>\n",
       "      <th>2</th>\n",
       "      <td>3</td>\n",
       "      <td>6</td>\n",
       "    </tr>\n",
       "  </tbody>\n",
       "</table style=\"display:inline\"></td><td style=\"vertical-align:top\"> <table style=\"display:inline\" border=\"1\" class=\"dataframe\">\n",
       "  <thead>\n",
       "    <tr style=\"text-align: right;\">\n",
       "      <th></th>\n",
       "      <th>A</th>\n",
       "      <th>B</th>\n",
       "    </tr>\n",
       "  </thead>\n",
       "  <tbody>\n",
       "    <tr>\n",
       "      <th>0</th>\n",
       "      <td>1</td>\n",
       "      <td>4</td>\n",
       "    </tr>\n",
       "    <tr>\n",
       "      <th>1</th>\n",
       "      <td>2</td>\n",
       "      <td>5</td>\n",
       "    </tr>\n",
       "    <tr>\n",
       "      <th>2</th>\n",
       "      <td>3</td>\n",
       "      <td>6</td>\n",
       "    </tr>\n",
       "  </tbody>\n",
       "</table style=\"display:inline\"></td></tr></table style=\"display:inline\">"
      ]
     },
     "metadata": {},
     "output_type": "display_data"
    }
   ],
   "source": [
    "sbs(df, df)"
   ]
  },
  {
   "cell_type": "code",
   "execution_count": 11,
   "id": "8c8138e3",
   "metadata": {},
   "outputs": [
    {
     "data": {
      "text/html": [
       "<table style=\"display:inline\"><tr><td style=\"vertical-align:top\"> <table style=\"display:inline\" border=\"1\" class=\"dataframe\">\n",
       "<thead style=\"border-bottom: none;\">\n",
       "<tr style=\"text-align: right;\">\n",
       "<th></th>\n",
       "<th>A</th>\n",
       "</tr>\n",
       "</thead>\n",
       "<tbody>\n",
       "<tr>\n",
       "<th style=\"border-right: 1px solid #666;\">0</th>\n",
       "<td>1</td>\n",
       "</tr>\n",
       "<tr>\n",
       "<th style=\"border-right: 1px solid #666;\">1</th>\n",
       "<td>2</td>\n",
       "</tr>\n",
       "<tr>\n",
       "<th style=\"border-right: 1px solid #666;\">2</th>\n",
       "<td>3</td>\n",
       "</tr>\n",
       "</tbody>\n",
       "</table style=\"display:inline\"></td></tr></table style=\"display:inline\">"
      ]
     },
     "metadata": {},
     "output_type": "display_data"
    }
   ],
   "source": [
    "sbs(df.A)"
   ]
  },
  {
   "cell_type": "code",
   "execution_count": 12,
   "id": "a283387c",
   "metadata": {},
   "outputs": [
    {
     "data": {
      "text/html": [
       "<table style=\"display:inline\"><tr><td style=\"vertical-align:top\"> <table style=\"display:inline\" border=\"1\" class=\"dataframe\">\n",
       "<thead style=\"border-bottom: none;\">\n",
       "<tr style=\"text-align: right;\">\n",
       "<th></th>\n",
       "<th>A</th>\n",
       "</tr>\n",
       "</thead>\n",
       "<tbody>\n",
       "<tr>\n",
       "<th style=\"border-right: 1px solid #666;\">0</th>\n",
       "<td>1</td>\n",
       "</tr>\n",
       "<tr>\n",
       "<th style=\"border-right: 1px solid #666;\">1</th>\n",
       "<td>2</td>\n",
       "</tr>\n",
       "<tr>\n",
       "<th style=\"border-right: 1px solid #666;\">2</th>\n",
       "<td>3</td>\n",
       "</tr>\n",
       "</tbody>\n",
       "</table style=\"display:inline\"></td><td style=\"vertical-align:top\"> <table style=\"display:inline\" border=\"1\" class=\"dataframe\">\n",
       "<thead style=\"border-bottom: none;\">\n",
       "<tr style=\"text-align: right;\">\n",
       "<th></th>\n",
       "<th>B</th>\n",
       "</tr>\n",
       "</thead>\n",
       "<tbody>\n",
       "<tr>\n",
       "<th style=\"border-right: 1px solid #666;\">0</th>\n",
       "<td>4</td>\n",
       "</tr>\n",
       "<tr>\n",
       "<th style=\"border-right: 1px solid #666;\">1</th>\n",
       "<td>5</td>\n",
       "</tr>\n",
       "<tr>\n",
       "<th style=\"border-right: 1px solid #666;\">2</th>\n",
       "<td>6</td>\n",
       "</tr>\n",
       "</tbody>\n",
       "</table style=\"display:inline\"></td></tr></table style=\"display:inline\">"
      ]
     },
     "metadata": {},
     "output_type": "display_data"
    }
   ],
   "source": [
    "sbs(df.A, df.B)"
   ]
  },
  {
   "cell_type": "code",
   "execution_count": 13,
   "id": "5b068f5a",
   "metadata": {},
   "outputs": [
    {
     "data": {
      "text/html": [
       "<table style=\"display:inline\"><tr><td style=\"vertical-align:top\"> <table style=\"display:inline\" border=\"1\" class=\"dataframe\">\n",
       "  <thead>\n",
       "    <tr style=\"text-align: right;\">\n",
       "      <th>&nbsp;</th>\n",
       "      <th>&nbsp;</th>\n",
       "    </tr>\n",
       "  </thead>\n",
       "  <tbody>\n",
       "    <tr>\n",
       "      <th>0</th>\n",
       "      <td></td>\n",
       "    </tr>\n",
       "    <tr>\n",
       "      <th>1</th>\n",
       "      <td></td>\n",
       "    </tr>\n",
       "    <tr>\n",
       "      <th>2</th>\n",
       "      <td></td>\n",
       "    </tr>\n",
       "  </tbody>\n",
       "</table style=\"display:inline\"></td><td style=\"vertical-align:top\"> <table style=\"display:inline\" border=\"1\" class=\"dataframe\">\n",
       "<thead style=\"border-bottom: none;\">\n",
       "<tr style=\"text-align: right;\">\n",
       "<th></th>\n",
       "<th>A</th>\n",
       "</tr>\n",
       "</thead>\n",
       "<tbody>\n",
       "<tr>\n",
       "<th style=\"border-right: 1px solid #666;\">0</th>\n",
       "<td>1</td>\n",
       "</tr>\n",
       "<tr>\n",
       "<th style=\"border-right: 1px solid #666;\">1</th>\n",
       "<td>2</td>\n",
       "</tr>\n",
       "<tr>\n",
       "<th style=\"border-right: 1px solid #666;\">2</th>\n",
       "<td>3</td>\n",
       "</tr>\n",
       "</tbody>\n",
       "</table style=\"display:inline\"></td><td style=\"vertical-align:top\"> <table style=\"display:inline\" border=\"1\" class=\"dataframe\">\n",
       "<thead style=\"border-bottom: none;\">\n",
       "<tr style=\"text-align: right;\">\n",
       "<th></th>\n",
       "<th>B</th>\n",
       "</tr>\n",
       "</thead>\n",
       "<tbody>\n",
       "<tr>\n",
       "<th style=\"border-right: 1px solid #666;\">0</th>\n",
       "<td>4</td>\n",
       "</tr>\n",
       "<tr>\n",
       "<th style=\"border-right: 1px solid #666;\">1</th>\n",
       "<td>5</td>\n",
       "</tr>\n",
       "<tr>\n",
       "<th style=\"border-right: 1px solid #666;\">2</th>\n",
       "<td>6</td>\n",
       "</tr>\n",
       "</tbody>\n",
       "</table style=\"display:inline\"></td></tr></table style=\"display:inline\">"
      ]
     },
     "metadata": {},
     "output_type": "display_data"
    }
   ],
   "source": [
    "sbs(df.index, df.A, df.B)"
   ]
  },
  {
   "cell_type": "code",
   "execution_count": 14,
   "id": "131fb3b4",
   "metadata": {},
   "outputs": [
    {
     "data": {
      "text/html": [
       "<table style=\"display:inline\"><tr><td style=\"vertical-align:top\"> <table style=\"display:inline\" border=\"1\" class=\"dataframe\">\n",
       "  <thead>\n",
       "    <tr style=\"text-align: right;\">\n",
       "      <th>&nbsp;</th>\n",
       "      <th>&nbsp;</th>\n",
       "    </tr>\n",
       "  </thead>\n",
       "  <tbody>\n",
       "    <tr>\n",
       "      <th>0</th>\n",
       "      <td></td>\n",
       "    </tr>\n",
       "    <tr>\n",
       "      <th>1</th>\n",
       "      <td></td>\n",
       "    </tr>\n",
       "    <tr>\n",
       "      <th>2</th>\n",
       "      <td></td>\n",
       "    </tr>\n",
       "  </tbody>\n",
       "</table style=\"display:inline\"></td><td style=\"vertical-align:top\"> <table style=\"display:inline\" border=\"1\" class=\"dataframe\">\n",
       "  <thead>\n",
       "    <tr style=\"text-align: right;\">\n",
       "      <th>A</th>\n",
       "    </tr>\n",
       "  </thead>\n",
       "  <tbody>\n",
       "    <tr>\n",
       "      <td>1</td>\n",
       "    </tr>\n",
       "    <tr>\n",
       "      <td>2</td>\n",
       "    </tr>\n",
       "    <tr>\n",
       "      <td>3</td>\n",
       "    </tr>\n",
       "  </tbody>\n",
       "</table style=\"display:inline\"></td><td style=\"vertical-align:top\"> <table style=\"display:inline\" border=\"1\" class=\"dataframe\">\n",
       "  <thead>\n",
       "    <tr style=\"text-align: right;\">\n",
       "      <th>B</th>\n",
       "    </tr>\n",
       "  </thead>\n",
       "  <tbody>\n",
       "    <tr>\n",
       "      <td>4</td>\n",
       "    </tr>\n",
       "    <tr>\n",
       "      <td>5</td>\n",
       "    </tr>\n",
       "    <tr>\n",
       "      <td>6</td>\n",
       "    </tr>\n",
       "  </tbody>\n",
       "</table style=\"display:inline\"></td></tr></table style=\"display:inline\">"
      ]
     },
     "metadata": {},
     "output_type": "display_data"
    }
   ],
   "source": [
    "sbs(df.index, df.A, df.B, index=False)"
   ]
  },
  {
   "cell_type": "markdown",
   "id": "1c7fda1c",
   "metadata": {},
   "source": [
    "### patch_series"
   ]
  },
  {
   "cell_type": "code",
   "execution_count": 4,
   "id": "5b0258fe",
   "metadata": {},
   "outputs": [
    {
     "data": {
      "text/plain": [
       "0    1\n",
       "1    2\n",
       "2    3\n",
       "Name: A, dtype: int64"
      ]
     },
     "execution_count": 4,
     "metadata": {},
     "output_type": "execute_result"
    }
   ],
   "source": [
    "df.A"
   ]
  },
  {
   "cell_type": "code",
   "execution_count": 21,
   "id": "a3aad021",
   "metadata": {},
   "outputs": [],
   "source": [
    "pdi.patch_series()"
   ]
  },
  {
   "cell_type": "code",
   "execution_count": 22,
   "id": "42d19b21",
   "metadata": {},
   "outputs": [
    {
     "data": {
      "text/html": [
       "<div>\n",
       "<style scoped=\"\">\n",
       "    .dataframe tbody tr th:only-of-type {\n",
       "        vertical-align: middle;\n",
       "    }\n",
       "\n",
       "    .dataframe tbody tr th {\n",
       "        vertical-align: top;\n",
       "    }\n",
       "\n",
       "    .dataframe thead th {\n",
       "        text-align: right;\n",
       "    }\n",
       "</style>\n",
       "<table border=\"1\" class=\"dataframe\">\n",
       "<thead style=\"border-bottom: none;\">\n",
       "<tr style=\"text-align: right;\">\n",
       "<th></th>\n",
       "<th>A</th>\n",
       "</tr>\n",
       "</thead>\n",
       "<tbody>\n",
       "<tr>\n",
       "<th style=\"border-right: 1px solid #666;\">0</th>\n",
       "<td>1</td>\n",
       "</tr>\n",
       "<tr>\n",
       "<th style=\"border-right: 1px solid #666;\">1</th>\n",
       "<td>2</td>\n",
       "</tr>\n",
       "<tr>\n",
       "<th style=\"border-right: 1px solid #666;\">2</th>\n",
       "<td>3</td>\n",
       "</tr>\n",
       "</tbody>\n",
       "</table>\n",
       "</div><pre style=\"margin-top:3px\">Name: A, dtype: int64</pre>"
      ],
      "text/plain": [
       "0    1\n",
       "1    2\n",
       "2    3\n",
       "Name: A, dtype: int64"
      ]
     },
     "execution_count": 22,
     "metadata": {},
     "output_type": "execute_result"
    }
   ],
   "source": [
    "df.A"
   ]
  },
  {
   "cell_type": "markdown",
   "id": "3a910dff",
   "metadata": {},
   "source": [
    "### multiindex"
   ]
  },
  {
   "cell_type": "code",
   "execution_count": 23,
   "id": "23ce8f1e",
   "metadata": {},
   "outputs": [],
   "source": [
    "df = pd.read_csv('cities-states.csv', index_col=('city', 'state'))"
   ]
  },
  {
   "cell_type": "code",
   "execution_count": 24,
   "id": "8d09c3f8",
   "metadata": {},
   "outputs": [
    {
     "data": {
      "text/html": [
       "<div>\n",
       "<style scoped>\n",
       "    .dataframe tbody tr th:only-of-type {\n",
       "        vertical-align: middle;\n",
       "    }\n",
       "\n",
       "    .dataframe tbody tr th {\n",
       "        vertical-align: top;\n",
       "    }\n",
       "\n",
       "    .dataframe thead th {\n",
       "        text-align: right;\n",
       "    }\n",
       "</style>\n",
       "<table border=\"1\" class=\"dataframe\">\n",
       "  <thead>\n",
       "    <tr style=\"text-align: right;\">\n",
       "      <th></th>\n",
       "      <th></th>\n",
       "      <th>population</th>\n",
       "      <th>lat</th>\n",
       "      <th>lon</th>\n",
       "    </tr>\n",
       "    <tr>\n",
       "      <th>city</th>\n",
       "      <th>state</th>\n",
       "      <th></th>\n",
       "      <th></th>\n",
       "      <th></th>\n",
       "    </tr>\n",
       "  </thead>\n",
       "  <tbody>\n",
       "    <tr>\n",
       "      <th>Portland</th>\n",
       "      <th>Oregon</th>\n",
       "      <td>609456</td>\n",
       "      <td>45.52</td>\n",
       "      <td>-122.68</td>\n",
       "    </tr>\n",
       "    <tr>\n",
       "      <th>Springfield</th>\n",
       "      <th>Illinois</th>\n",
       "      <td>117006</td>\n",
       "      <td>39.78</td>\n",
       "      <td>-89.65</td>\n",
       "    </tr>\n",
       "    <tr>\n",
       "      <th>Portland</th>\n",
       "      <th>Maine</th>\n",
       "      <td>66318</td>\n",
       "      <td>43.66</td>\n",
       "      <td>-70.26</td>\n",
       "    </tr>\n",
       "    <tr>\n",
       "      <th>Springfield</th>\n",
       "      <th>Oregon</th>\n",
       "      <td>60177</td>\n",
       "      <td>44.05</td>\n",
       "      <td>-123.02</td>\n",
       "    </tr>\n",
       "  </tbody>\n",
       "</table>\n",
       "</div>"
      ],
      "text/plain": [
       "                      population    lat     lon\n",
       "city        state                              \n",
       "Portland    Oregon        609456  45.52 -122.68\n",
       "Springfield Illinois      117006  39.78  -89.65\n",
       "Portland    Maine          66318  43.66  -70.26\n",
       "Springfield Oregon         60177  44.05 -123.02"
      ]
     },
     "execution_count": 24,
     "metadata": {},
     "output_type": "execute_result"
    }
   ],
   "source": [
    "df"
   ]
  },
  {
   "cell_type": "code",
   "execution_count": 25,
   "id": "9201747e",
   "metadata": {},
   "outputs": [
    {
     "data": {
      "text/html": [
       "<table style=\"display:inline\"><tr><td style=\"vertical-align:top\"> <table style=\"display:inline\" border=\"1\" class=\"dataframe\">\n",
       "<thead style=\"border-bottom: none;\">\n",
       "<tr style=\"text-align: right;\">\n",
       "<th></th>\n",
       "<th></th>\n",
       "<th>population</th>\n",
       "</tr>\n",
       "<tr>\n",
       "<th>city</th>\n",
       "<th>state</th>\n",
       "<th></th>\n",
       "</tr>\n",
       "</thead>\n",
       "<tbody>\n",
       "<tr>\n",
       "<th>Portland</th>\n",
       "<th style=\"border-right: 1px solid #666;\">Oregon</th>\n",
       "<td>609456</td>\n",
       "</tr>\n",
       "<tr>\n",
       "<th>Springfield</th>\n",
       "<th style=\"border-right: 1px solid #666;\">Illinois</th>\n",
       "<td>117006</td>\n",
       "</tr>\n",
       "<tr>\n",
       "<th>Portland</th>\n",
       "<th style=\"border-right: 1px solid #666;\">Maine</th>\n",
       "<td>66318</td>\n",
       "</tr>\n",
       "<tr>\n",
       "<th>Springfield</th>\n",
       "<th style=\"border-right: 1px solid #666;\">Oregon</th>\n",
       "<td>60177</td>\n",
       "</tr>\n",
       "</tbody>\n",
       "</table style=\"display:inline\"></td><td style=\"vertical-align:top\"> <table style=\"display:inline\" border=\"1\" class=\"dataframe\">\n",
       "<thead style=\"border-bottom: none;\">\n",
       "<tr style=\"text-align: right;\">\n",
       "<th></th>\n",
       "<th></th>\n",
       "<th>lat</th>\n",
       "</tr>\n",
       "<tr>\n",
       "<th>city</th>\n",
       "<th>state</th>\n",
       "<th></th>\n",
       "</tr>\n",
       "</thead>\n",
       "<tbody>\n",
       "<tr>\n",
       "<th>Portland</th>\n",
       "<th style=\"border-right: 1px solid #666;\">Oregon</th>\n",
       "<td>45.52</td>\n",
       "</tr>\n",
       "<tr>\n",
       "<th>Springfield</th>\n",
       "<th style=\"border-right: 1px solid #666;\">Illinois</th>\n",
       "<td>39.78</td>\n",
       "</tr>\n",
       "<tr>\n",
       "<th>Portland</th>\n",
       "<th style=\"border-right: 1px solid #666;\">Maine</th>\n",
       "<td>43.66</td>\n",
       "</tr>\n",
       "<tr>\n",
       "<th>Springfield</th>\n",
       "<th style=\"border-right: 1px solid #666;\">Oregon</th>\n",
       "<td>44.05</td>\n",
       "</tr>\n",
       "</tbody>\n",
       "</table style=\"display:inline\"></td><td style=\"vertical-align:top\"> <table style=\"display:inline\" border=\"1\" class=\"dataframe\">\n",
       "<thead style=\"border-bottom: none;\">\n",
       "<tr style=\"text-align: right;\">\n",
       "<th></th>\n",
       "<th></th>\n",
       "<th>lon</th>\n",
       "</tr>\n",
       "<tr>\n",
       "<th>city</th>\n",
       "<th>state</th>\n",
       "<th></th>\n",
       "</tr>\n",
       "</thead>\n",
       "<tbody>\n",
       "<tr>\n",
       "<th>Portland</th>\n",
       "<th style=\"border-right: 1px solid #666;\">Oregon</th>\n",
       "<td>-122.68</td>\n",
       "</tr>\n",
       "<tr>\n",
       "<th>Springfield</th>\n",
       "<th style=\"border-right: 1px solid #666;\">Illinois</th>\n",
       "<td>-89.65</td>\n",
       "</tr>\n",
       "<tr>\n",
       "<th>Portland</th>\n",
       "<th style=\"border-right: 1px solid #666;\">Maine</th>\n",
       "<td>-70.26</td>\n",
       "</tr>\n",
       "<tr>\n",
       "<th>Springfield</th>\n",
       "<th style=\"border-right: 1px solid #666;\">Oregon</th>\n",
       "<td>-123.02</td>\n",
       "</tr>\n",
       "</tbody>\n",
       "</table style=\"display:inline\"></td></tr></table style=\"display:inline\">"
      ]
     },
     "metadata": {},
     "output_type": "display_data"
    }
   ],
   "source": [
    "sbs(df.population, df.lat, df.lon)"
   ]
  },
  {
   "cell_type": "code",
   "execution_count": 30,
   "id": "073bd095",
   "metadata": {},
   "outputs": [
    {
     "data": {
      "text/html": [
       "<table style=\"display:inline\"><tr><td style=\"vertical-align:top\"> <table style=\"display:inline\" border=\"1\" class=\"dataframe\">\n",
       "  <thead>\n",
       "    <tr style=\"text-align: right;\">\n",
       "      <th>&nbsp;</th>\n",
       "      <th>&nbsp;</th>\n",
       "      <th>&nbsp;</th>\n",
       "    </tr>\n",
       "    <tr>\n",
       "      <th>city</th>\n",
       "      <th>state</th>\n",
       "      <th>&nbsp;</th>\n",
       "    </tr>\n",
       "  </thead>\n",
       "  <tbody>\n",
       "    <tr>\n",
       "      <th>Portland</th>\n",
       "      <th>Oregon</th>\n",
       "      <td></td>\n",
       "    </tr>\n",
       "    <tr>\n",
       "      <th>Springfield</th>\n",
       "      <th>Illinois</th>\n",
       "      <td></td>\n",
       "    </tr>\n",
       "    <tr>\n",
       "      <th>Portland</th>\n",
       "      <th>Maine</th>\n",
       "      <td></td>\n",
       "    </tr>\n",
       "    <tr>\n",
       "      <th>Springfield</th>\n",
       "      <th>Oregon</th>\n",
       "      <td></td>\n",
       "    </tr>\n",
       "  </tbody>\n",
       "</table style=\"display:inline\"></td><td style=\"vertical-align:top\"> <table style=\"display:inline\" border=\"1\" class=\"dataframe\">\n",
       "  <thead>\n",
       "    <tr style=\"text-align: right;\">\n",
       "      <th>population</th>\n",
       "    </tr>\n",
       "  </thead>\n",
       "  <tbody>\n",
       "    <tr>\n",
       "      <td>609456</td>\n",
       "    </tr>\n",
       "    <tr>\n",
       "      <td>117006</td>\n",
       "    </tr>\n",
       "    <tr>\n",
       "      <td>66318</td>\n",
       "    </tr>\n",
       "    <tr>\n",
       "      <td>60177</td>\n",
       "    </tr>\n",
       "  </tbody>\n",
       "</table style=\"display:inline\"></td><td style=\"vertical-align:top\"> <table style=\"display:inline\" border=\"1\" class=\"dataframe\">\n",
       "  <thead>\n",
       "    <tr style=\"text-align: right;\">\n",
       "      <th>lat</th>\n",
       "    </tr>\n",
       "  </thead>\n",
       "  <tbody>\n",
       "    <tr>\n",
       "      <td>45.52</td>\n",
       "    </tr>\n",
       "    <tr>\n",
       "      <td>39.78</td>\n",
       "    </tr>\n",
       "    <tr>\n",
       "      <td>43.66</td>\n",
       "    </tr>\n",
       "    <tr>\n",
       "      <td>44.05</td>\n",
       "    </tr>\n",
       "  </tbody>\n",
       "</table style=\"display:inline\"></td><td style=\"vertical-align:top\"> <table style=\"display:inline\" border=\"1\" class=\"dataframe\">\n",
       "  <thead>\n",
       "    <tr style=\"text-align: right;\">\n",
       "      <th>lon</th>\n",
       "    </tr>\n",
       "  </thead>\n",
       "  <tbody>\n",
       "    <tr>\n",
       "      <td>-122.68</td>\n",
       "    </tr>\n",
       "    <tr>\n",
       "      <td>-89.65</td>\n",
       "    </tr>\n",
       "    <tr>\n",
       "      <td>-70.26</td>\n",
       "    </tr>\n",
       "    <tr>\n",
       "      <td>-123.02</td>\n",
       "    </tr>\n",
       "  </tbody>\n",
       "</table style=\"display:inline\"></td></tr></table style=\"display:inline\">"
      ]
     },
     "metadata": {},
     "output_type": "display_data"
    }
   ],
   "source": [
    "sbs(df.index, df.population, df.lat, df.lon, index=False)"
   ]
  },
  {
   "cell_type": "code",
   "execution_count": 31,
   "id": "e17bc901",
   "metadata": {},
   "outputs": [
    {
     "data": {
      "text/html": [
       "<table style=\"display:inline\"><tr><td style=\"vertical-align:bottom\"> <table style=\"display:inline\" border=\"1\" class=\"dataframe\">\n",
       "  <thead>\n",
       "    <tr style=\"text-align: right;\">\n",
       "      <th>&nbsp;</th>\n",
       "      <th>&nbsp;</th>\n",
       "      <th>&nbsp;</th>\n",
       "    </tr>\n",
       "    <tr>\n",
       "      <th>city</th>\n",
       "      <th>state</th>\n",
       "      <th>&nbsp;</th>\n",
       "    </tr>\n",
       "  </thead>\n",
       "  <tbody>\n",
       "    <tr>\n",
       "      <th>Portland</th>\n",
       "      <th>Oregon</th>\n",
       "      <td></td>\n",
       "    </tr>\n",
       "    <tr>\n",
       "      <th>Springfield</th>\n",
       "      <th>Illinois</th>\n",
       "      <td></td>\n",
       "    </tr>\n",
       "    <tr>\n",
       "      <th>Portland</th>\n",
       "      <th>Maine</th>\n",
       "      <td></td>\n",
       "    </tr>\n",
       "    <tr>\n",
       "      <th>Springfield</th>\n",
       "      <th>Oregon</th>\n",
       "      <td></td>\n",
       "    </tr>\n",
       "  </tbody>\n",
       "</table style=\"display:inline\"></td><td style=\"vertical-align:bottom\"> <table style=\"display:inline\" border=\"1\" class=\"dataframe\">\n",
       "  <thead>\n",
       "    <tr style=\"text-align: right;\">\n",
       "      <th>population</th>\n",
       "    </tr>\n",
       "  </thead>\n",
       "  <tbody>\n",
       "    <tr>\n",
       "      <td>609456</td>\n",
       "    </tr>\n",
       "    <tr>\n",
       "      <td>117006</td>\n",
       "    </tr>\n",
       "    <tr>\n",
       "      <td>66318</td>\n",
       "    </tr>\n",
       "    <tr>\n",
       "      <td>60177</td>\n",
       "    </tr>\n",
       "  </tbody>\n",
       "</table style=\"display:inline\"></td><td style=\"vertical-align:bottom\"> <table style=\"display:inline\" border=\"1\" class=\"dataframe\">\n",
       "  <thead>\n",
       "    <tr style=\"text-align: right;\">\n",
       "      <th>lat</th>\n",
       "    </tr>\n",
       "  </thead>\n",
       "  <tbody>\n",
       "    <tr>\n",
       "      <td>45.52</td>\n",
       "    </tr>\n",
       "    <tr>\n",
       "      <td>39.78</td>\n",
       "    </tr>\n",
       "    <tr>\n",
       "      <td>43.66</td>\n",
       "    </tr>\n",
       "    <tr>\n",
       "      <td>44.05</td>\n",
       "    </tr>\n",
       "  </tbody>\n",
       "</table style=\"display:inline\"></td><td style=\"vertical-align:bottom\"> <table style=\"display:inline\" border=\"1\" class=\"dataframe\">\n",
       "  <thead>\n",
       "    <tr style=\"text-align: right;\">\n",
       "      <th>lon</th>\n",
       "    </tr>\n",
       "  </thead>\n",
       "  <tbody>\n",
       "    <tr>\n",
       "      <td>-122.68</td>\n",
       "    </tr>\n",
       "    <tr>\n",
       "      <td>-89.65</td>\n",
       "    </tr>\n",
       "    <tr>\n",
       "      <td>-70.26</td>\n",
       "    </tr>\n",
       "    <tr>\n",
       "      <td>-123.02</td>\n",
       "    </tr>\n",
       "  </tbody>\n",
       "</table style=\"display:inline\"></td></tr></table style=\"display:inline\">"
      ]
     },
     "metadata": {},
     "output_type": "display_data"
    }
   ],
   "source": [
    "sbs(df.index, df.population, df.lat, df.lon, index=False, valign='bottom')"
   ]
  },
  {
   "cell_type": "code",
   "execution_count": 32,
   "id": "1d1e0fd8",
   "metadata": {},
   "outputs": [],
   "source": [
    "df = df.T"
   ]
  },
  {
   "cell_type": "code",
   "execution_count": 33,
   "id": "c21adaee",
   "metadata": {},
   "outputs": [
    {
     "data": {
      "text/html": [
       "<div>\n",
       "<style scoped>\n",
       "    .dataframe tbody tr th:only-of-type {\n",
       "        vertical-align: middle;\n",
       "    }\n",
       "\n",
       "    .dataframe tbody tr th {\n",
       "        vertical-align: top;\n",
       "    }\n",
       "\n",
       "    .dataframe thead tr th {\n",
       "        text-align: left;\n",
       "    }\n",
       "</style>\n",
       "<table border=\"1\" class=\"dataframe\">\n",
       "  <thead>\n",
       "    <tr>\n",
       "      <th>city</th>\n",
       "      <th>Portland</th>\n",
       "      <th>Springfield</th>\n",
       "      <th>Portland</th>\n",
       "      <th>Springfield</th>\n",
       "    </tr>\n",
       "    <tr>\n",
       "      <th>state</th>\n",
       "      <th>Oregon</th>\n",
       "      <th>Illinois</th>\n",
       "      <th>Maine</th>\n",
       "      <th>Oregon</th>\n",
       "    </tr>\n",
       "  </thead>\n",
       "  <tbody>\n",
       "    <tr>\n",
       "      <th>population</th>\n",
       "      <td>609456.00</td>\n",
       "      <td>117006.00</td>\n",
       "      <td>66318.00</td>\n",
       "      <td>60177.00</td>\n",
       "    </tr>\n",
       "    <tr>\n",
       "      <th>lat</th>\n",
       "      <td>45.52</td>\n",
       "      <td>39.78</td>\n",
       "      <td>43.66</td>\n",
       "      <td>44.05</td>\n",
       "    </tr>\n",
       "    <tr>\n",
       "      <th>lon</th>\n",
       "      <td>-122.68</td>\n",
       "      <td>-89.65</td>\n",
       "      <td>-70.26</td>\n",
       "      <td>-123.02</td>\n",
       "    </tr>\n",
       "  </tbody>\n",
       "</table>\n",
       "</div>"
      ],
      "text/plain": [
       "city         Portland Springfield  Portland Springfield\n",
       "state          Oregon    Illinois     Maine      Oregon\n",
       "population  609456.00   117006.00  66318.00    60177.00\n",
       "lat             45.52       39.78     43.66       44.05\n",
       "lon           -122.68      -89.65    -70.26     -123.02"
      ]
     },
     "execution_count": 33,
     "metadata": {},
     "output_type": "execute_result"
    }
   ],
   "source": [
    "df"
   ]
  },
  {
   "cell_type": "code",
   "execution_count": 34,
   "id": "85d8175a",
   "metadata": {
    "scrolled": true
   },
   "outputs": [
    {
     "data": {
      "text/html": [
       "<div>\n",
       "<style scoped=\"\">\n",
       "    .dataframe tbody tr th:only-of-type {\n",
       "        vertical-align: middle;\n",
       "    }\n",
       "\n",
       "    .dataframe tbody tr th {\n",
       "        vertical-align: top;\n",
       "    }\n",
       "\n",
       "    .dataframe thead tr th {\n",
       "        text-align: left;\n",
       "    }\n",
       "</style>\n",
       "<table border=\"1\" class=\"dataframe\">\n",
       "<thead style=\"border-bottom: none;\">\n",
       "<tr>\n",
       "<th></th>\n",
       "<th>Portland</th>\n",
       "</tr>\n",
       "<tr>\n",
       "<th></th>\n",
       "<th>Oregon</th>\n",
       "</tr>\n",
       "</thead>\n",
       "<tbody>\n",
       "<tr>\n",
       "<th style=\"border-right: 1px solid #666;\">population</th>\n",
       "<td>609456.00</td>\n",
       "</tr>\n",
       "<tr>\n",
       "<th style=\"border-right: 1px solid #666;\">lat</th>\n",
       "<td>45.52</td>\n",
       "</tr>\n",
       "<tr>\n",
       "<th style=\"border-right: 1px solid #666;\">lon</th>\n",
       "<td>-122.68</td>\n",
       "</tr>\n",
       "</tbody>\n",
       "</table>\n",
       "</div><pre style=\"margin-top:3px\">Name: (Portland, Oregon), dtype: float64</pre>"
      ],
      "text/plain": [
       "population    609456.00\n",
       "lat               45.52\n",
       "lon             -122.68\n",
       "Name: (Portland, Oregon), dtype: float64"
      ]
     },
     "execution_count": 34,
     "metadata": {},
     "output_type": "execute_result"
    }
   ],
   "source": [
    "df['Portland', 'Oregon']"
   ]
  },
  {
   "cell_type": "code",
   "execution_count": 35,
   "id": "4ea21560",
   "metadata": {},
   "outputs": [],
   "source": [
    "pdi.patch_series(footer=False)"
   ]
  },
  {
   "cell_type": "code",
   "execution_count": 36,
   "id": "e742dd52",
   "metadata": {
    "scrolled": true
   },
   "outputs": [
    {
     "data": {
      "text/html": [
       "<div>\n",
       "<style scoped=\"\">\n",
       "    .dataframe tbody tr th:only-of-type {\n",
       "        vertical-align: middle;\n",
       "    }\n",
       "\n",
       "    .dataframe tbody tr th {\n",
       "        vertical-align: top;\n",
       "    }\n",
       "\n",
       "    .dataframe thead tr th {\n",
       "        text-align: left;\n",
       "    }\n",
       "</style>\n",
       "<table border=\"1\" class=\"dataframe\">\n",
       "<thead style=\"border-bottom: none;\">\n",
       "<tr>\n",
       "<th></th>\n",
       "<th>Portland</th>\n",
       "</tr>\n",
       "<tr>\n",
       "<th></th>\n",
       "<th>Oregon</th>\n",
       "</tr>\n",
       "</thead>\n",
       "<tbody>\n",
       "<tr>\n",
       "<th style=\"border-right: 1px solid #666;\">population</th>\n",
       "<td>609456.00</td>\n",
       "</tr>\n",
       "<tr>\n",
       "<th style=\"border-right: 1px solid #666;\">lat</th>\n",
       "<td>45.52</td>\n",
       "</tr>\n",
       "<tr>\n",
       "<th style=\"border-right: 1px solid #666;\">lon</th>\n",
       "<td>-122.68</td>\n",
       "</tr>\n",
       "</tbody>\n",
       "</table>\n",
       "</div>"
      ],
      "text/plain": [
       "population    609456.00\n",
       "lat               45.52\n",
       "lon             -122.68\n",
       "Name: (Portland, Oregon), dtype: float64"
      ]
     },
     "execution_count": 36,
     "metadata": {},
     "output_type": "execute_result"
    }
   ],
   "source": [
    "df['Portland', 'Oregon']"
   ]
  }
 ],
 "metadata": {
  "kernelspec": {
   "display_name": "Python 3 (ipykernel)",
   "language": "python",
   "name": "python3"
  },
  "language_info": {
   "codemirror_mode": {
    "name": "ipython",
    "version": 3
   },
   "file_extension": ".py",
   "mimetype": "text/x-python",
   "name": "python",
   "nbconvert_exporter": "python",
   "pygments_lexer": "ipython3",
   "version": "3.10.1"
  },
  "toc": {
   "base_numbering": 1,
   "nav_menu": {},
   "number_sections": true,
   "sideBar": true,
   "skip_h1_title": false,
   "title_cell": "Table of Contents",
   "title_sidebar": "Contents",
   "toc_cell": false,
   "toc_position": {},
   "toc_section_display": true,
   "toc_window_display": false
  }
 },
 "nbformat": 4,
 "nbformat_minor": 5
}
